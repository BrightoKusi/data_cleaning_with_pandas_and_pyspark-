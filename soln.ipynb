{
 "cells": [
  {
   "cell_type": "code",
   "execution_count": 1,
   "metadata": {},
   "outputs": [],
   "source": [
    "import pandas as pd"
   ]
  },
  {
   "cell_type": "code",
   "execution_count": 2,
   "metadata": {},
   "outputs": [],
   "source": [
    "columns = ['task', 'status', 'trackerId','server_region','timestamp', 'server']\n",
    "\n",
    "df = pd.read_csv('log.txt', sep = '|', header= None, names = columns)"
   ]
  },
  {
   "cell_type": "code",
   "execution_count": 3,
   "metadata": {},
   "outputs": [],
   "source": [
    "file = df.copy()"
   ]
  },
  {
   "cell_type": "code",
   "execution_count": 4,
   "metadata": {},
   "outputs": [
    {
     "data": {
      "text/html": [
       "<div>\n",
       "<style scoped>\n",
       "    .dataframe tbody tr th:only-of-type {\n",
       "        vertical-align: middle;\n",
       "    }\n",
       "\n",
       "    .dataframe tbody tr th {\n",
       "        vertical-align: top;\n",
       "    }\n",
       "\n",
       "    .dataframe thead th {\n",
       "        text-align: right;\n",
       "    }\n",
       "</style>\n",
       "<table border=\"1\" class=\"dataframe\">\n",
       "  <thead>\n",
       "    <tr style=\"text-align: right;\">\n",
       "      <th></th>\n",
       "      <th>task</th>\n",
       "      <th>status</th>\n",
       "      <th>trackerId</th>\n",
       "      <th>server_region</th>\n",
       "      <th>timestamp</th>\n",
       "      <th>server</th>\n",
       "    </tr>\n",
       "  </thead>\n",
       "  <tbody>\n",
       "    <tr>\n",
       "      <th>0</th>\n",
       "      <td>Data quality assurance</td>\n",
       "      <td>success</td>\n",
       "      <td>89328463487</td>\n",
       "      <td>Florida;USA</td>\n",
       "      <td>1599093305000</td>\n",
       "      <td>464f:bdbd:1d:535a:2dad:5117:a92f:b359</td>\n",
       "    </tr>\n",
       "    <tr>\n",
       "      <th>1</th>\n",
       "      <td>Designing and implementing data models</td>\n",
       "      <td>success</td>\n",
       "      <td>89328463488</td>\n",
       "      <td>Ontario;Canada</td>\n",
       "      <td>1589218599000</td>\n",
       "      <td>1366:c314:8d40:4219:4a51:138f:7ce3:d244</td>\n",
       "    </tr>\n",
       "    <tr>\n",
       "      <th>2</th>\n",
       "      <td>Extracting data from various sources</td>\n",
       "      <td>success</td>\n",
       "      <td>89328463489</td>\n",
       "      <td>California;USA</td>\n",
       "      <td>1595463446000</td>\n",
       "      <td>1ffa:cdd1:7a2b:a7d8:ab00:eada:94b3:7a7c</td>\n",
       "    </tr>\n",
       "    <tr>\n",
       "      <th>3</th>\n",
       "      <td>Loading data into a data warehouse</td>\n",
       "      <td>success</td>\n",
       "      <td>89328463490</td>\n",
       "      <td>Florida;USA</td>\n",
       "      <td>1605932487000</td>\n",
       "      <td>8ac5:9010:f24c:2f06:4679:aaec:a737:f003</td>\n",
       "    </tr>\n",
       "    <tr>\n",
       "      <th>4</th>\n",
       "      <td>Data quality assurance</td>\n",
       "      <td>success</td>\n",
       "      <td>89328463491</td>\n",
       "      <td>Queensland;Australia</td>\n",
       "      <td>1587354266000</td>\n",
       "      <td>5a7d:18ec:4650:5421:185c:4fa0:2e86:6643</td>\n",
       "    </tr>\n",
       "  </tbody>\n",
       "</table>\n",
       "</div>"
      ],
      "text/plain": [
       "                                     task   status    trackerId  \\\n",
       "0                  Data quality assurance  success  89328463487   \n",
       "1  Designing and implementing data models  success  89328463488   \n",
       "2    Extracting data from various sources  success  89328463489   \n",
       "3      Loading data into a data warehouse  success  89328463490   \n",
       "4                  Data quality assurance  success  89328463491   \n",
       "\n",
       "          server_region      timestamp  \\\n",
       "0           Florida;USA  1599093305000   \n",
       "1        Ontario;Canada  1589218599000   \n",
       "2        California;USA  1595463446000   \n",
       "3           Florida;USA  1605932487000   \n",
       "4  Queensland;Australia  1587354266000   \n",
       "\n",
       "                                    server  \n",
       "0    464f:bdbd:1d:535a:2dad:5117:a92f:b359  \n",
       "1  1366:c314:8d40:4219:4a51:138f:7ce3:d244  \n",
       "2  1ffa:cdd1:7a2b:a7d8:ab00:eada:94b3:7a7c  \n",
       "3  8ac5:9010:f24c:2f06:4679:aaec:a737:f003  \n",
       "4  5a7d:18ec:4650:5421:185c:4fa0:2e86:6643  "
      ]
     },
     "execution_count": 4,
     "metadata": {},
     "output_type": "execute_result"
    }
   ],
   "source": [
    "file.head(5) "
   ]
  },
  {
   "cell_type": "code",
   "execution_count": 5,
   "metadata": {},
   "outputs": [
    {
     "name": "stdout",
     "output_type": "stream",
     "text": [
      "<class 'pandas.core.frame.DataFrame'>\n",
      "RangeIndex: 1000 entries, 0 to 999\n",
      "Data columns (total 6 columns):\n",
      " #   Column         Non-Null Count  Dtype \n",
      "---  ------         --------------  ----- \n",
      " 0   task           1000 non-null   object\n",
      " 1   status         1000 non-null   object\n",
      " 2   trackerId      1000 non-null   int64 \n",
      " 3   server_region  1000 non-null   object\n",
      " 4   timestamp      1000 non-null   int64 \n",
      " 5   server         1000 non-null   object\n",
      "dtypes: int64(2), object(4)\n",
      "memory usage: 47.0+ KB\n"
     ]
    }
   ],
   "source": [
    "file.info()"
   ]
  },
  {
   "cell_type": "code",
   "execution_count": 6,
   "metadata": {},
   "outputs": [],
   "source": [
    "file = file.drop_duplicates()"
   ]
  },
  {
   "cell_type": "markdown",
   "metadata": {},
   "source": [
    "## issues\n",
    "- set trackerId as index\n",
    "- split state and country\n",
    "- change timestamp from unix to datetime \n",
    "- check failed operations\n",
    "- convert to csv format\n"
   ]
  },
  {
   "cell_type": "markdown",
   "metadata": {},
   "source": [
    "## set trackerId as index"
   ]
  },
  {
   "cell_type": "code",
   "execution_count": 7,
   "metadata": {},
   "outputs": [],
   "source": [
    "file = file.set_index('trackerId')"
   ]
  },
  {
   "cell_type": "code",
   "execution_count": 8,
   "metadata": {},
   "outputs": [
    {
     "data": {
      "text/html": [
       "<div>\n",
       "<style scoped>\n",
       "    .dataframe tbody tr th:only-of-type {\n",
       "        vertical-align: middle;\n",
       "    }\n",
       "\n",
       "    .dataframe tbody tr th {\n",
       "        vertical-align: top;\n",
       "    }\n",
       "\n",
       "    .dataframe thead th {\n",
       "        text-align: right;\n",
       "    }\n",
       "</style>\n",
       "<table border=\"1\" class=\"dataframe\">\n",
       "  <thead>\n",
       "    <tr style=\"text-align: right;\">\n",
       "      <th></th>\n",
       "      <th>task</th>\n",
       "      <th>status</th>\n",
       "      <th>server_region</th>\n",
       "      <th>timestamp</th>\n",
       "      <th>server</th>\n",
       "    </tr>\n",
       "    <tr>\n",
       "      <th>trackerId</th>\n",
       "      <th></th>\n",
       "      <th></th>\n",
       "      <th></th>\n",
       "      <th></th>\n",
       "      <th></th>\n",
       "    </tr>\n",
       "  </thead>\n",
       "  <tbody>\n",
       "    <tr>\n",
       "      <th>89328463487</th>\n",
       "      <td>Data quality assurance</td>\n",
       "      <td>success</td>\n",
       "      <td>Florida;USA</td>\n",
       "      <td>1599093305000</td>\n",
       "      <td>464f:bdbd:1d:535a:2dad:5117:a92f:b359</td>\n",
       "    </tr>\n",
       "    <tr>\n",
       "      <th>89328463488</th>\n",
       "      <td>Designing and implementing data models</td>\n",
       "      <td>success</td>\n",
       "      <td>Ontario;Canada</td>\n",
       "      <td>1589218599000</td>\n",
       "      <td>1366:c314:8d40:4219:4a51:138f:7ce3:d244</td>\n",
       "    </tr>\n",
       "    <tr>\n",
       "      <th>89328463489</th>\n",
       "      <td>Extracting data from various sources</td>\n",
       "      <td>success</td>\n",
       "      <td>California;USA</td>\n",
       "      <td>1595463446000</td>\n",
       "      <td>1ffa:cdd1:7a2b:a7d8:ab00:eada:94b3:7a7c</td>\n",
       "    </tr>\n",
       "  </tbody>\n",
       "</table>\n",
       "</div>"
      ],
      "text/plain": [
       "                                               task   status   server_region  \\\n",
       "trackerId                                                                      \n",
       "89328463487                  Data quality assurance  success     Florida;USA   \n",
       "89328463488  Designing and implementing data models  success  Ontario;Canada   \n",
       "89328463489    Extracting data from various sources  success  California;USA   \n",
       "\n",
       "                 timestamp                                   server  \n",
       "trackerId                                                            \n",
       "89328463487  1599093305000    464f:bdbd:1d:535a:2dad:5117:a92f:b359  \n",
       "89328463488  1589218599000  1366:c314:8d40:4219:4a51:138f:7ce3:d244  \n",
       "89328463489  1595463446000  1ffa:cdd1:7a2b:a7d8:ab00:eada:94b3:7a7c  "
      ]
     },
     "execution_count": 8,
     "metadata": {},
     "output_type": "execute_result"
    }
   ],
   "source": [
    "file.head(3)"
   ]
  },
  {
   "cell_type": "markdown",
   "metadata": {},
   "source": [
    "## split state and country"
   ]
  },
  {
   "cell_type": "code",
   "execution_count": 9,
   "metadata": {},
   "outputs": [],
   "source": [
    "## defining functions to split state and country\n",
    "\n",
    "def split_state(text):\n",
    "    state = text.split(';')[0]\n",
    "    return state\n",
    "\n",
    "def split_country(text):\n",
    "    country = text.split(';')[1]\n",
    "    return country"
   ]
  },
  {
   "cell_type": "code",
   "execution_count": 10,
   "metadata": {},
   "outputs": [],
   "source": [
    "file['state'] = file['server_region'].apply(split_state)  # split the state\n",
    "\n",
    "file['country'] = file['server_region'].apply(split_country)  # split the country"
   ]
  },
  {
   "cell_type": "code",
   "execution_count": 11,
   "metadata": {},
   "outputs": [
    {
     "data": {
      "text/html": [
       "<div>\n",
       "<style scoped>\n",
       "    .dataframe tbody tr th:only-of-type {\n",
       "        vertical-align: middle;\n",
       "    }\n",
       "\n",
       "    .dataframe tbody tr th {\n",
       "        vertical-align: top;\n",
       "    }\n",
       "\n",
       "    .dataframe thead th {\n",
       "        text-align: right;\n",
       "    }\n",
       "</style>\n",
       "<table border=\"1\" class=\"dataframe\">\n",
       "  <thead>\n",
       "    <tr style=\"text-align: right;\">\n",
       "      <th></th>\n",
       "      <th>task</th>\n",
       "      <th>status</th>\n",
       "      <th>server_region</th>\n",
       "      <th>timestamp</th>\n",
       "      <th>server</th>\n",
       "      <th>state</th>\n",
       "      <th>country</th>\n",
       "    </tr>\n",
       "    <tr>\n",
       "      <th>trackerId</th>\n",
       "      <th></th>\n",
       "      <th></th>\n",
       "      <th></th>\n",
       "      <th></th>\n",
       "      <th></th>\n",
       "      <th></th>\n",
       "      <th></th>\n",
       "    </tr>\n",
       "  </thead>\n",
       "  <tbody>\n",
       "    <tr>\n",
       "      <th>89328464484</th>\n",
       "      <td>Optimizing database performance</td>\n",
       "      <td>success</td>\n",
       "      <td>Texas;USA</td>\n",
       "      <td>1607161055000</td>\n",
       "      <td>cc7c:3591:1c62:280c:b259:dc89:e69d:2d75</td>\n",
       "      <td>Texas</td>\n",
       "      <td>USA</td>\n",
       "    </tr>\n",
       "    <tr>\n",
       "      <th>89328464485</th>\n",
       "      <td>Building data pipelines</td>\n",
       "      <td>success</td>\n",
       "      <td>Texas;USA</td>\n",
       "      <td>1588130663000</td>\n",
       "      <td>3336:1461:f197:bad9:705f:7dd:8c59:a5e4</td>\n",
       "      <td>Texas</td>\n",
       "      <td>USA</td>\n",
       "    </tr>\n",
       "    <tr>\n",
       "      <th>89328464486</th>\n",
       "      <td>Designing and implementing data models</td>\n",
       "      <td>success</td>\n",
       "      <td>New York;USA</td>\n",
       "      <td>1604987132000</td>\n",
       "      <td>633d:e149:e22f:a277:b5f6:dae8:b32c:ea9e</td>\n",
       "      <td>New York</td>\n",
       "      <td>USA</td>\n",
       "    </tr>\n",
       "  </tbody>\n",
       "</table>\n",
       "</div>"
      ],
      "text/plain": [
       "                                               task   status server_region  \\\n",
       "trackerId                                                                    \n",
       "89328464484         Optimizing database performance  success     Texas;USA   \n",
       "89328464485                 Building data pipelines  success     Texas;USA   \n",
       "89328464486  Designing and implementing data models  success  New York;USA   \n",
       "\n",
       "                 timestamp                                   server     state  \\\n",
       "trackerId                                                                       \n",
       "89328464484  1607161055000  cc7c:3591:1c62:280c:b259:dc89:e69d:2d75     Texas   \n",
       "89328464485  1588130663000   3336:1461:f197:bad9:705f:7dd:8c59:a5e4     Texas   \n",
       "89328464486  1604987132000  633d:e149:e22f:a277:b5f6:dae8:b32c:ea9e  New York   \n",
       "\n",
       "            country  \n",
       "trackerId            \n",
       "89328464484     USA  \n",
       "89328464485     USA  \n",
       "89328464486     USA  "
      ]
     },
     "execution_count": 11,
     "metadata": {},
     "output_type": "execute_result"
    }
   ],
   "source": [
    "file.tail(3)"
   ]
  },
  {
   "cell_type": "markdown",
   "metadata": {},
   "source": [
    "## change timestamp from unix to datetime "
   ]
  },
  {
   "cell_type": "code",
   "execution_count": 12,
   "metadata": {},
   "outputs": [],
   "source": [
    "## create a function to convert from milliseconds to seconds\n",
    "\n",
    "def slice_zeros(text):\n",
    "    seconds = text[:-3]\n",
    "    return seconds\n"
   ]
  },
  {
   "cell_type": "code",
   "execution_count": 13,
   "metadata": {},
   "outputs": [],
   "source": [
    "file['timestamp'] = file['timestamp'].astype(str)  ## convert to string first to enable iteration and slicing"
   ]
  },
  {
   "cell_type": "code",
   "execution_count": 14,
   "metadata": {},
   "outputs": [],
   "source": [
    "file['datetime'] = file['timestamp'].apply(slice_zeros)  ## apply slicing to timestamp column"
   ]
  },
  {
   "cell_type": "code",
   "execution_count": 15,
   "metadata": {},
   "outputs": [],
   "source": [
    "file['datetime'] = pd.to_datetime(file['datetime'], unit='s')  #convert to datetime"
   ]
  },
  {
   "cell_type": "code",
   "execution_count": 16,
   "metadata": {},
   "outputs": [
    {
     "name": "stdout",
     "output_type": "stream",
     "text": [
      "<class 'pandas.core.frame.DataFrame'>\n",
      "Int64Index: 1000 entries, 89328463487 to 89328464486\n",
      "Data columns (total 8 columns):\n",
      " #   Column         Non-Null Count  Dtype         \n",
      "---  ------         --------------  -----         \n",
      " 0   task           1000 non-null   object        \n",
      " 1   status         1000 non-null   object        \n",
      " 2   server_region  1000 non-null   object        \n",
      " 3   timestamp      1000 non-null   object        \n",
      " 4   server         1000 non-null   object        \n",
      " 5   state          1000 non-null   object        \n",
      " 6   country        1000 non-null   object        \n",
      " 7   datetime       1000 non-null   datetime64[ns]\n",
      "dtypes: datetime64[ns](1), object(7)\n",
      "memory usage: 70.3+ KB\n"
     ]
    }
   ],
   "source": [
    "file.info()"
   ]
  },
  {
   "cell_type": "code",
   "execution_count": 17,
   "metadata": {},
   "outputs": [
    {
     "data": {
      "text/html": [
       "<div>\n",
       "<style scoped>\n",
       "    .dataframe tbody tr th:only-of-type {\n",
       "        vertical-align: middle;\n",
       "    }\n",
       "\n",
       "    .dataframe tbody tr th {\n",
       "        vertical-align: top;\n",
       "    }\n",
       "\n",
       "    .dataframe thead th {\n",
       "        text-align: right;\n",
       "    }\n",
       "</style>\n",
       "<table border=\"1\" class=\"dataframe\">\n",
       "  <thead>\n",
       "    <tr style=\"text-align: right;\">\n",
       "      <th></th>\n",
       "      <th>task</th>\n",
       "      <th>status</th>\n",
       "      <th>server_region</th>\n",
       "      <th>timestamp</th>\n",
       "      <th>server</th>\n",
       "      <th>state</th>\n",
       "      <th>country</th>\n",
       "      <th>datetime</th>\n",
       "    </tr>\n",
       "    <tr>\n",
       "      <th>trackerId</th>\n",
       "      <th></th>\n",
       "      <th></th>\n",
       "      <th></th>\n",
       "      <th></th>\n",
       "      <th></th>\n",
       "      <th></th>\n",
       "      <th></th>\n",
       "      <th></th>\n",
       "    </tr>\n",
       "  </thead>\n",
       "  <tbody>\n",
       "    <tr>\n",
       "      <th>89328463487</th>\n",
       "      <td>Data quality assurance</td>\n",
       "      <td>success</td>\n",
       "      <td>Florida;USA</td>\n",
       "      <td>1599093305000</td>\n",
       "      <td>464f:bdbd:1d:535a:2dad:5117:a92f:b359</td>\n",
       "      <td>Florida</td>\n",
       "      <td>USA</td>\n",
       "      <td>2020-09-03 00:35:05</td>\n",
       "    </tr>\n",
       "    <tr>\n",
       "      <th>89328463488</th>\n",
       "      <td>Designing and implementing data models</td>\n",
       "      <td>success</td>\n",
       "      <td>Ontario;Canada</td>\n",
       "      <td>1589218599000</td>\n",
       "      <td>1366:c314:8d40:4219:4a51:138f:7ce3:d244</td>\n",
       "      <td>Ontario</td>\n",
       "      <td>Canada</td>\n",
       "      <td>2020-05-11 17:36:39</td>\n",
       "    </tr>\n",
       "    <tr>\n",
       "      <th>89328463489</th>\n",
       "      <td>Extracting data from various sources</td>\n",
       "      <td>success</td>\n",
       "      <td>California;USA</td>\n",
       "      <td>1595463446000</td>\n",
       "      <td>1ffa:cdd1:7a2b:a7d8:ab00:eada:94b3:7a7c</td>\n",
       "      <td>California</td>\n",
       "      <td>USA</td>\n",
       "      <td>2020-07-23 00:17:26</td>\n",
       "    </tr>\n",
       "  </tbody>\n",
       "</table>\n",
       "</div>"
      ],
      "text/plain": [
       "                                               task   status   server_region  \\\n",
       "trackerId                                                                      \n",
       "89328463487                  Data quality assurance  success     Florida;USA   \n",
       "89328463488  Designing and implementing data models  success  Ontario;Canada   \n",
       "89328463489    Extracting data from various sources  success  California;USA   \n",
       "\n",
       "                 timestamp                                   server  \\\n",
       "trackerId                                                             \n",
       "89328463487  1599093305000    464f:bdbd:1d:535a:2dad:5117:a92f:b359   \n",
       "89328463488  1589218599000  1366:c314:8d40:4219:4a51:138f:7ce3:d244   \n",
       "89328463489  1595463446000  1ffa:cdd1:7a2b:a7d8:ab00:eada:94b3:7a7c   \n",
       "\n",
       "                  state country            datetime  \n",
       "trackerId                                            \n",
       "89328463487     Florida     USA 2020-09-03 00:35:05  \n",
       "89328463488     Ontario  Canada 2020-05-11 17:36:39  \n",
       "89328463489  California     USA 2020-07-23 00:17:26  "
      ]
     },
     "execution_count": 17,
     "metadata": {},
     "output_type": "execute_result"
    }
   ],
   "source": [
    "file.head(3)"
   ]
  },
  {
   "cell_type": "markdown",
   "metadata": {},
   "source": [
    "## exporting as a csv file"
   ]
  },
  {
   "cell_type": "code",
   "execution_count": 18,
   "metadata": {},
   "outputs": [],
   "source": [
    "file.to_csv('log.csv')  ## save and export as csv file"
   ]
  },
  {
   "cell_type": "markdown",
   "metadata": {},
   "source": [
    "## Working with Pyspark"
   ]
  },
  {
   "cell_type": "code",
   "execution_count": 19,
   "metadata": {},
   "outputs": [],
   "source": [
    "from pyspark.sql import SparkSession"
   ]
  },
  {
   "cell_type": "code",
   "execution_count": 20,
   "metadata": {},
   "outputs": [],
   "source": [
    "spark = SparkSession.builder.appName('pyspark_clean').getOrCreate()  # creating a new sparksession"
   ]
  },
  {
   "cell_type": "markdown",
   "metadata": {},
   "source": [
    "## creating a schema and reading file\n",
    "\n",
    "A schema defines the columns name and types of a dataframe"
   ]
  },
  {
   "cell_type": "code",
   "execution_count": 43,
   "metadata": {},
   "outputs": [],
   "source": [
    "from pyspark.sql.types import *\n",
    "from pyspark.sql.functions import *\n",
    "\n",
    "#creating a schema to define the columns name and type\n",
    "schema = StructType([\n",
    "    StructField(\"task\", StringType(), True),\n",
    "    StructField(\"status\", StringType(), True),\n",
    "    StructField(\"trackerId\", StringType(), True),\n",
    "    StructField(\"server_region\", StringType(), True),\n",
    "    StructField(\"timestamp\", StringType(), True),\n",
    "    StructField(\"server\", StringType(), True)\n",
    "])"
   ]
  },
  {
   "cell_type": "code",
   "execution_count": 44,
   "metadata": {},
   "outputs": [],
   "source": [
    "log_file = spark.read.csv('log.txt', schema= schema,sep= '|')  #reading text file"
   ]
  },
  {
   "cell_type": "code",
   "execution_count": null,
   "metadata": {},
   "outputs": [],
   "source": []
  },
  {
   "cell_type": "code",
   "execution_count": 45,
   "metadata": {},
   "outputs": [
    {
     "name": "stdout",
     "output_type": "stream",
     "text": [
      "+--------------------+-------+-----------+--------------+-------------+--------------------+\n",
      "|                task| status|  trackerId| server_region|    timestamp|              server|\n",
      "+--------------------+-------+-----------+--------------+-------------+--------------------+\n",
      "|Data quality assu...|success|89328463487|   Florida;USA|1599093305000|464f:bdbd:1d:535a...|\n",
      "|Designing and imp...|success|89328463488|Ontario;Canada|1589218599000|1366:c314:8d40:42...|\n",
      "|Extracting data f...|success|89328463489|California;USA|1595463446000|1ffa:cdd1:7a2b:a7...|\n",
      "+--------------------+-------+-----------+--------------+-------------+--------------------+\n",
      "only showing top 3 rows\n",
      "\n"
     ]
    }
   ],
   "source": [
    "log_file.show(3) "
   ]
  },
  {
   "cell_type": "code",
   "execution_count": 24,
   "metadata": {},
   "outputs": [
    {
     "name": "stdout",
     "output_type": "stream",
     "text": [
      "root\n",
      " |-- task: string (nullable = true)\n",
      " |-- status: string (nullable = true)\n",
      " |-- trackerId: string (nullable = true)\n",
      " |-- server_region: string (nullable = true)\n",
      " |-- timestamp: string (nullable = true)\n",
      " |-- server: string (nullable = true)\n",
      "\n"
     ]
    }
   ],
   "source": [
    "log_file.printSchema()"
   ]
  },
  {
   "cell_type": "code",
   "execution_count": 25,
   "metadata": {},
   "outputs": [
    {
     "name": "stdout",
     "output_type": "stream",
     "text": [
      "+-------+--------------------+-------+-----------------+--------------+-------------------+--------------------+\n",
      "|summary|                task| status|        trackerId| server_region|          timestamp|              server|\n",
      "+-------+--------------------+-------+-----------------+--------------+-------------------+--------------------+\n",
      "|  count|                1000|   1000|             1000|          1000|               1000|                1000|\n",
      "|   mean|                null|   null| 8.93284639865E10|          null|  1.596842686302E12|                null|\n",
      "| stddev|                null|   null|288.8194360957494|          null|6.517130087623664E9|                null|\n",
      "|    min|Building data pip...|      -|      89328463487|California;USA|      1585703319000|105a:b192:fae1:cc...|\n",
      "|    max|Transforming data...|success|      89328464486|   Tokyo;Japan|      1608159945000|ffda:a2f4:7264:ec...|\n",
      "+-------+--------------------+-------+-----------------+--------------+-------------------+--------------------+\n",
      "\n"
     ]
    }
   ],
   "source": [
    "log_file.describe().show()"
   ]
  },
  {
   "cell_type": "markdown",
   "metadata": {},
   "source": [
    "## converting timestamp column from unix epoch to timestamp"
   ]
  },
  {
   "cell_type": "code",
   "execution_count": 46,
   "metadata": {},
   "outputs": [],
   "source": [
    "log_file = log_file.withColumn('date_time', log_file['timestamp']/1000).\\\n",
    "    withColumn('date_time', from_unixtime(col('date_time')))  ## converting from unix epoch to string of current system time\n"
   ]
  },
  {
   "cell_type": "code",
   "execution_count": 47,
   "metadata": {},
   "outputs": [
    {
     "name": "stdout",
     "output_type": "stream",
     "text": [
      "+--------------------+-------+-----------+--------------+-------------+--------------------+-------------------+\n",
      "|                task| status|  trackerId| server_region|    timestamp|              server|          date_time|\n",
      "+--------------------+-------+-----------+--------------+-------------+--------------------+-------------------+\n",
      "|Data quality assu...|success|89328463487|   Florida;USA|1599093305000|464f:bdbd:1d:535a...|2020-09-03 00:35:05|\n",
      "|Designing and imp...|success|89328463488|Ontario;Canada|1589218599000|1366:c314:8d40:42...|2020-05-11 17:36:39|\n",
      "|Extracting data f...|success|89328463489|California;USA|1595463446000|1ffa:cdd1:7a2b:a7...|2020-07-23 00:17:26|\n",
      "+--------------------+-------+-----------+--------------+-------------+--------------------+-------------------+\n",
      "only showing top 3 rows\n",
      "\n"
     ]
    }
   ],
   "source": [
    "log_file.show(3)"
   ]
  },
  {
   "cell_type": "code",
   "execution_count": 28,
   "metadata": {},
   "outputs": [
    {
     "name": "stdout",
     "output_type": "stream",
     "text": [
      "root\n",
      " |-- task: string (nullable = true)\n",
      " |-- status: string (nullable = true)\n",
      " |-- trackerId: string (nullable = true)\n",
      " |-- server_region: string (nullable = true)\n",
      " |-- timestamp: string (nullable = true)\n",
      " |-- server: string (nullable = true)\n",
      " |-- date_time: string (nullable = true)\n",
      "\n"
     ]
    }
   ],
   "source": [
    "log_file.printSchema()"
   ]
  },
  {
   "cell_type": "code",
   "execution_count": 48,
   "metadata": {},
   "outputs": [],
   "source": [
    "log_file = log_file.withColumn('date_time', to_timestamp(col('date_time')))  ## converting from string to timestamp"
   ]
  },
  {
   "cell_type": "code",
   "execution_count": 49,
   "metadata": {},
   "outputs": [
    {
     "name": "stdout",
     "output_type": "stream",
     "text": [
      "+--------------------+-------+-----------+--------------+-------------+--------------------+-------------------+\n",
      "|                task| status|  trackerId| server_region|    timestamp|              server|          date_time|\n",
      "+--------------------+-------+-----------+--------------+-------------+--------------------+-------------------+\n",
      "|Data quality assu...|success|89328463487|   Florida;USA|1599093305000|464f:bdbd:1d:535a...|2020-09-03 00:35:05|\n",
      "|Designing and imp...|success|89328463488|Ontario;Canada|1589218599000|1366:c314:8d40:42...|2020-05-11 17:36:39|\n",
      "|Extracting data f...|success|89328463489|California;USA|1595463446000|1ffa:cdd1:7a2b:a7...|2020-07-23 00:17:26|\n",
      "+--------------------+-------+-----------+--------------+-------------+--------------------+-------------------+\n",
      "only showing top 3 rows\n",
      "\n"
     ]
    }
   ],
   "source": [
    "log_file.show(3)"
   ]
  },
  {
   "cell_type": "code",
   "execution_count": 50,
   "metadata": {},
   "outputs": [
    {
     "name": "stdout",
     "output_type": "stream",
     "text": [
      "root\n",
      " |-- task: string (nullable = true)\n",
      " |-- status: string (nullable = true)\n",
      " |-- trackerId: string (nullable = true)\n",
      " |-- server_region: string (nullable = true)\n",
      " |-- timestamp: string (nullable = true)\n",
      " |-- server: string (nullable = true)\n",
      " |-- date_time: timestamp (nullable = true)\n",
      "\n"
     ]
    }
   ],
   "source": [
    "log_file.printSchema()"
   ]
  },
  {
   "cell_type": "markdown",
   "metadata": {},
   "source": [
    "## split state and country into separate columns."
   ]
  },
  {
   "cell_type": "code",
   "execution_count": 53,
   "metadata": {},
   "outputs": [],
   "source": [
    "#splitting state and country\n",
    "\n",
    "log_file = log_file.withColumn('state', split(log_file['server_region'], ';').getItem(0)) \\\n",
    "       .withColumn('country', split(log_file['server_region'], ';').getItem(1))"
   ]
  },
  {
   "cell_type": "code",
   "execution_count": 58,
   "metadata": {},
   "outputs": [
    {
     "name": "stdout",
     "output_type": "stream",
     "text": [
      "+--------------------+-------+-----------+--------------+-------------+--------------------+-------------------+----------+-------+\n",
      "|                task| status|  trackerId| server_region|    timestamp|              server|          date_time|     state|country|\n",
      "+--------------------+-------+-----------+--------------+-------------+--------------------+-------------------+----------+-------+\n",
      "|Data quality assu...|success|89328463487|   Florida;USA|1599093305000|464f:bdbd:1d:535a...|2020-09-03 00:35:05|   Florida|    USA|\n",
      "|Designing and imp...|success|89328463488|Ontario;Canada|1589218599000|1366:c314:8d40:42...|2020-05-11 17:36:39|   Ontario| Canada|\n",
      "|Extracting data f...|success|89328463489|California;USA|1595463446000|1ffa:cdd1:7a2b:a7...|2020-07-23 00:17:26|California|    USA|\n",
      "+--------------------+-------+-----------+--------------+-------------+--------------------+-------------------+----------+-------+\n",
      "only showing top 3 rows\n",
      "\n"
     ]
    }
   ],
   "source": [
    "log_file.show(3)"
   ]
  },
  {
   "cell_type": "code",
   "execution_count": 62,
   "metadata": {},
   "outputs": [
    {
     "name": "stdout",
     "output_type": "stream",
     "text": [
      "root\n",
      " |-- task: string (nullable = true)\n",
      " |-- status: string (nullable = true)\n",
      " |-- trackerId: string (nullable = true)\n",
      " |-- server_region: string (nullable = true)\n",
      " |-- timestamp: string (nullable = true)\n",
      " |-- server: string (nullable = true)\n",
      " |-- date_time: timestamp (nullable = true)\n",
      " |-- state: string (nullable = true)\n",
      " |-- country: string (nullable = true)\n",
      "\n"
     ]
    }
   ],
   "source": [
    "log_file.printSchema()"
   ]
  }
 ],
 "metadata": {
  "kernelspec": {
   "display_name": "base",
   "language": "python",
   "name": "python3"
  },
  "language_info": {
   "codemirror_mode": {
    "name": "ipython",
    "version": 3
   },
   "file_extension": ".py",
   "mimetype": "text/x-python",
   "name": "python",
   "nbconvert_exporter": "python",
   "pygments_lexer": "ipython3",
   "version": "3.10.9"
  },
  "orig_nbformat": 4
 },
 "nbformat": 4,
 "nbformat_minor": 2
}
