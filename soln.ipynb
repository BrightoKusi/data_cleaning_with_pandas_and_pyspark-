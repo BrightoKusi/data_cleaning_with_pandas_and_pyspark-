{
 "cells": [
  {
   "cell_type": "code",
   "execution_count": 5,
   "metadata": {},
   "outputs": [],
   "source": [
    "import pandas as pd"
   ]
  },
  {
   "cell_type": "code",
   "execution_count": 30,
   "metadata": {},
   "outputs": [],
   "source": [
    "columns = ['task', 'status', 'trackerId','server_region','timestamp', 'server']\n",
    "\n",
    "df = pd.read_csv('log.txt', sep = '|', header= None, names = columns)"
   ]
  },
  {
   "cell_type": "code",
   "execution_count": 25,
   "metadata": {},
   "outputs": [],
   "source": [
    "file = df.copy()"
   ]
  },
  {
   "cell_type": "code",
   "execution_count": 26,
   "metadata": {},
   "outputs": [
    {
     "data": {
      "text/html": [
       "<div>\n",
       "<style scoped>\n",
       "    .dataframe tbody tr th:only-of-type {\n",
       "        vertical-align: middle;\n",
       "    }\n",
       "\n",
       "    .dataframe tbody tr th {\n",
       "        vertical-align: top;\n",
       "    }\n",
       "\n",
       "    .dataframe thead th {\n",
       "        text-align: right;\n",
       "    }\n",
       "</style>\n",
       "<table border=\"1\" class=\"dataframe\">\n",
       "  <thead>\n",
       "    <tr style=\"text-align: right;\">\n",
       "      <th></th>\n",
       "      <th>task</th>\n",
       "      <th>status</th>\n",
       "      <th>trackerId</th>\n",
       "      <th>server_region</th>\n",
       "      <th>timestamp</th>\n",
       "      <th>server</th>\n",
       "    </tr>\n",
       "  </thead>\n",
       "  <tbody>\n",
       "    <tr>\n",
       "      <th>0</th>\n",
       "      <td>Data quality assurance</td>\n",
       "      <td>success</td>\n",
       "      <td>89328463487</td>\n",
       "      <td>Florida;USA</td>\n",
       "      <td>1599093305000</td>\n",
       "      <td>464f:bdbd:1d:535a:2dad:5117:a92f:b359</td>\n",
       "    </tr>\n",
       "    <tr>\n",
       "      <th>1</th>\n",
       "      <td>Designing and implementing data models</td>\n",
       "      <td>success</td>\n",
       "      <td>89328463488</td>\n",
       "      <td>Ontario;Canada</td>\n",
       "      <td>1589218599000</td>\n",
       "      <td>1366:c314:8d40:4219:4a51:138f:7ce3:d244</td>\n",
       "    </tr>\n",
       "    <tr>\n",
       "      <th>2</th>\n",
       "      <td>Extracting data from various sources</td>\n",
       "      <td>success</td>\n",
       "      <td>89328463489</td>\n",
       "      <td>California;USA</td>\n",
       "      <td>1595463446000</td>\n",
       "      <td>1ffa:cdd1:7a2b:a7d8:ab00:eada:94b3:7a7c</td>\n",
       "    </tr>\n",
       "    <tr>\n",
       "      <th>3</th>\n",
       "      <td>Loading data into a data warehouse</td>\n",
       "      <td>success</td>\n",
       "      <td>89328463490</td>\n",
       "      <td>Florida;USA</td>\n",
       "      <td>1605932487000</td>\n",
       "      <td>8ac5:9010:f24c:2f06:4679:aaec:a737:f003</td>\n",
       "    </tr>\n",
       "    <tr>\n",
       "      <th>4</th>\n",
       "      <td>Data quality assurance</td>\n",
       "      <td>success</td>\n",
       "      <td>89328463491</td>\n",
       "      <td>Queensland;Australia</td>\n",
       "      <td>1587354266000</td>\n",
       "      <td>5a7d:18ec:4650:5421:185c:4fa0:2e86:6643</td>\n",
       "    </tr>\n",
       "  </tbody>\n",
       "</table>\n",
       "</div>"
      ],
      "text/plain": [
       "                                     task   status    trackerId  \\\n",
       "0                  Data quality assurance  success  89328463487   \n",
       "1  Designing and implementing data models  success  89328463488   \n",
       "2    Extracting data from various sources  success  89328463489   \n",
       "3      Loading data into a data warehouse  success  89328463490   \n",
       "4                  Data quality assurance  success  89328463491   \n",
       "\n",
       "          server_region      timestamp  \\\n",
       "0           Florida;USA  1599093305000   \n",
       "1        Ontario;Canada  1589218599000   \n",
       "2        California;USA  1595463446000   \n",
       "3           Florida;USA  1605932487000   \n",
       "4  Queensland;Australia  1587354266000   \n",
       "\n",
       "                                    server  \n",
       "0    464f:bdbd:1d:535a:2dad:5117:a92f:b359  \n",
       "1  1366:c314:8d40:4219:4a51:138f:7ce3:d244  \n",
       "2  1ffa:cdd1:7a2b:a7d8:ab00:eada:94b3:7a7c  \n",
       "3  8ac5:9010:f24c:2f06:4679:aaec:a737:f003  \n",
       "4  5a7d:18ec:4650:5421:185c:4fa0:2e86:6643  "
      ]
     },
     "execution_count": 26,
     "metadata": {},
     "output_type": "execute_result"
    }
   ],
   "source": [
    "file.head(5)"
   ]
  },
  {
   "cell_type": "code",
   "execution_count": 27,
   "metadata": {},
   "outputs": [
    {
     "name": "stdout",
     "output_type": "stream",
     "text": [
      "<class 'pandas.core.frame.DataFrame'>\n",
      "RangeIndex: 1000 entries, 0 to 999\n",
      "Data columns (total 6 columns):\n",
      " #   Column         Non-Null Count  Dtype \n",
      "---  ------         --------------  ----- \n",
      " 0   task           1000 non-null   object\n",
      " 1   status         1000 non-null   object\n",
      " 2   trackerId      1000 non-null   int64 \n",
      " 3   server_region  1000 non-null   object\n",
      " 4   timestamp      1000 non-null   int64 \n",
      " 5   server         1000 non-null   object\n",
      "dtypes: int64(2), object(4)\n",
      "memory usage: 47.0+ KB\n"
     ]
    }
   ],
   "source": [
    "file.info()"
   ]
  },
  {
   "cell_type": "markdown",
   "metadata": {},
   "source": [
    "## issues\n",
    "- set trackerId as index\n",
    "- split state and country\n",
    "- change timestamp from unix to datetime \n",
    "- check failed operations"
   ]
  }
 ],
 "metadata": {
  "kernelspec": {
   "display_name": "base",
   "language": "python",
   "name": "python3"
  },
  "language_info": {
   "codemirror_mode": {
    "name": "ipython",
    "version": 3
   },
   "file_extension": ".py",
   "mimetype": "text/x-python",
   "name": "python",
   "nbconvert_exporter": "python",
   "pygments_lexer": "ipython3",
   "version": "3.10.9"
  },
  "orig_nbformat": 4
 },
 "nbformat": 4,
 "nbformat_minor": 2
}
